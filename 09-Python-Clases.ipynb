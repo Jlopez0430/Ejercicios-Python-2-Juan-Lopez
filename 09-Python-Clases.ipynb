{
 "cells": [
  {
   "cell_type": "markdown",
   "metadata": {
    "application/vnd.databricks.v1+cell": {
     "cellMetadata": {},
     "inputWidgets": {},
     "nuid": "c125ca6f-d5f8-49e8-8bbd-abfd410505b6",
     "showTitle": false,
     "tableResultSettingsMap": {},
     "title": ""
    }
   },
   "source": [
    "<h1>Procesamiento de Datos a Gran Escala</h1>"
   ]
  },
  {
   "cell_type": "markdown",
   "metadata": {
    "application/vnd.databricks.v1+cell": {
     "cellMetadata": {},
     "inputWidgets": {},
     "nuid": "6eb782eb-da69-4439-9143-6aae97435873",
     "showTitle": false,
     "tableResultSettingsMap": {},
     "title": ""
    }
   },
   "source": [
    "<h2>Clases y Objetos en Python</h2>"
   ]
  },
  {
   "cell_type": "markdown",
   "metadata": {
    "application/vnd.databricks.v1+cell": {
     "cellMetadata": {},
     "inputWidgets": {},
     "nuid": "0d006039-1f26-444d-8ae7-63c5f1df5d62",
     "showTitle": false,
     "tableResultSettingsMap": {},
     "title": ""
    }
   },
   "source": [
    "<p>\n",
    "    <strong>¡Bienvenido!</strong> \n",
    "    Los objetos en programación son parecidos a los de la vida real. Al igual que los reales, hay distintos tipos de objetos. En este cuaderno, crearemos dos clases llamadas Circulo y Rectángulo. Al final, tendrás una idea mas clara acerca de:\n",
    "    <ul>\n",
    "        <li>Qué es una clase</li>\n",
    "        <li>Qué es un atributo</li>\n",
    "        <li>Qué es un método</li>\n",
    "    </ul>\n",
    "\n",
    "No te preocupes si no lo entiendes la primera vez ya que la terminología es confusa. No olvides hacer los exámenes de este cuaderno.\n",
    "</p>"
   ]
  },
  {
   "cell_type": "markdown",
   "metadata": {
    "application/vnd.databricks.v1+cell": {
     "cellMetadata": {},
     "inputWidgets": {},
     "nuid": "a3dc6900-ec31-4351-992a-f16c86361fcf",
     "showTitle": false,
     "tableResultSettingsMap": {},
     "title": ""
    }
   },
   "source": [
    "<h2>Tabla de Contenido</h2>\n",
    "<div class=\"alert alert-block alert-info\" style=\"margin-top: 20px\">\n",
    "    <ul>\n",
    "        <li>\n",
    "            <a href=\"#intro\">Introducción a las Clases y Objetos</a>\n",
    "            <ul>\n",
    "                <li><a href=\"create\">Crear una Clase</a></li>\n",
    "                <li><a href=\"instance\">Instancias de la Clase: Objetos y Atributos</a></li>\n",
    "                <li><a href=\"method\">Métodos</a></li>\n",
    "            </ul>\n",
    "        </li>\n",
    "        <li><a href=\"creating\">Crear una Clase</a></li>\n",
    "        <li><a href=\"circle\">Crear una instancia de la clase Circulo</a></li>\n",
    "        <li><a href=\"rect\">La Clase Rectángulo</a></li>\n",
    "    </ul>\n",
    "    <p>\n",
    "        Tiempo Estimado: <strong>40 min</strong>\n",
    "    </p>\n",
    "</div>\n",
    "\n",
    "<hr>"
   ]
  },
  {
   "cell_type": "markdown",
   "metadata": {
    "application/vnd.databricks.v1+cell": {
     "cellMetadata": {},
     "inputWidgets": {},
     "nuid": "bce041f1-5aea-401a-a55c-6bf33d730b10",
     "showTitle": false,
     "tableResultSettingsMap": {},
     "title": ""
    }
   },
   "source": [
    "<h2 id=\"intro\">Introducción a las Clases y Objetos</h2>"
   ]
  },
  {
   "cell_type": "markdown",
   "metadata": {
    "application/vnd.databricks.v1+cell": {
     "cellMetadata": {},
     "inputWidgets": {},
     "nuid": "487369ab-06d6-480e-b747-85f2b8baf73b",
     "showTitle": false,
     "tableResultSettingsMap": {},
     "title": ""
    }
   },
   "source": [
    "<h3>Crear una Clase</h3>"
   ]
  },
  {
   "cell_type": "markdown",
   "metadata": {
    "application/vnd.databricks.v1+cell": {
     "cellMetadata": {},
     "inputWidgets": {},
     "nuid": "2e5aade0-1460-47d5-a8a8-2ef26864ede3",
     "showTitle": false,
     "tableResultSettingsMap": {},
     "title": ""
    }
   },
   "source": [
    "Lo primero al crear una clase es darle un nombre: En este cuaderno, crearemos dos clases, Circulo y Rectángulo. Tenemos que determinar los datos necesarios para hacer esa clase, a esos datos le llamamos atributos. Puedes pensar en este paso como la creación de un plano que después usaremos para construir objetos. En la imagen 1 podemos ver dos clases, circulo (Circle) y rectángulo (Rectangle). Cada una posee atributos, en forma de variables. La clase circulo tiene los atributos: radius y color, la clase rectángulo posee los atributos height y width (altura y ancho en inglés respectivamente). Usemos algunos ejemplos visuales de estas figuras antes de ver el código, esto ayudara a que te familiarices con el vocabulario."
   ]
  },
  {
   "cell_type": "markdown",
   "metadata": {
    "application/vnd.databricks.v1+cell": {
     "cellMetadata": {},
     "inputWidgets": {},
     "nuid": "09188d4b-7e41-4620-83b7-fa7a534dff21",
     "showTitle": false,
     "tableResultSettingsMap": {},
     "title": ""
    }
   },
   "source": [
    "<img src=\"https://s3-api.us-geo.objectstorage.softlayer.net/cf-courses-data/CognitiveClass/PY0101EN/Chapter%203/Images/ClassesClass.png\" width=\"500\" />"
   ]
  },
  {
   "cell_type": "markdown",
   "metadata": {
    "application/vnd.databricks.v1+cell": {
     "cellMetadata": {},
     "inputWidgets": {},
     "nuid": "4c8fb176-414f-4ead-bbf4-22200e737092",
     "showTitle": false,
     "tableResultSettingsMap": {},
     "title": ""
    }
   },
   "source": [
    "<i> Figura 1: Clases circle y rectangle, cada una tiene sus atributos. La clase circle tiene los atributos radius y colour, la clase rectángulo posee los atributos height y width (altura y ancho en inglés respectivamente).</i>"
   ]
  },
  {
   "cell_type": "markdown",
   "metadata": {
    "application/vnd.databricks.v1+cell": {
     "cellMetadata": {},
     "inputWidgets": {},
     "nuid": "3692cbc6-f2f1-49ff-acdb-51f3a1bf410f",
     "showTitle": false,
     "tableResultSettingsMap": {},
     "title": ""
    }
   },
   "source": [
    "<h3 id=\"instance\">Instancias de la Clase: Objetos y Atributos</h3>"
   ]
  },
  {
   "cell_type": "markdown",
   "metadata": {
    "application/vnd.databricks.v1+cell": {
     "cellMetadata": {},
     "inputWidgets": {},
     "nuid": "c611db93-6e65-445a-bfe2-6a51c0d30cdd",
     "showTitle": false,
     "tableResultSettingsMap": {},
     "title": ""
    }
   },
   "source": [
    "Una instancia de objeto es producto de una clase, en la figura 2 podemos ver tres instancias de la clase circle. Le damos a cada objeto el nombre: red circle (círculo rojo), yellow circle (círculo amarillo) y green circle (círculo verde). Cada uno tiene distintos atributos, enfoquémonos por ahora en el atributo colour (color) de cada objeto."
   ]
  },
  {
   "cell_type": "markdown",
   "metadata": {
    "application/vnd.databricks.v1+cell": {
     "cellMetadata": {},
     "inputWidgets": {},
     "nuid": "b709cb6d-0633-4633-9c7e-ce0cd030c7da",
     "showTitle": false,
     "tableResultSettingsMap": {},
     "title": ""
    }
   },
   "source": [
    "<img src=\"https://s3-api.us-geo.objectstorage.softlayer.net/cf-courses-data/CognitiveClass/PY0101EN/Chapter%203/Images/ClassesObj.png\" width=\"500\" />"
   ]
  },
  {
   "cell_type": "markdown",
   "metadata": {
    "application/vnd.databricks.v1+cell": {
     "cellMetadata": {},
     "inputWidgets": {},
     "nuid": "73b2b294-a283-43c9-9da6-d06ab406dfb6",
     "showTitle": false,
     "tableResultSettingsMap": {},
     "title": ""
    }
   },
   "source": [
    "<i>Figura 2: Tres instancias de la clase circle o, dicho de otra forma, tres objetos de tipo circle.</i>"
   ]
  },
  {
   "cell_type": "markdown",
   "metadata": {
    "application/vnd.databricks.v1+cell": {
     "cellMetadata": {},
     "inputWidgets": {},
     "nuid": "3adde101-db51-406f-8817-98b193e9cdaf",
     "showTitle": false,
     "tableResultSettingsMap": {},
     "title": ""
    }
   },
   "source": [
    "El atributo colour para el círculo rojo es el color rojo, para el círculo verde será el verde y amarillo para el círculo amarillo."
   ]
  },
  {
   "cell_type": "markdown",
   "metadata": {
    "application/vnd.databricks.v1+cell": {
     "cellMetadata": {},
     "inputWidgets": {},
     "nuid": "01192bff-d306-4107-8346-7aec315c5223",
     "showTitle": false,
     "tableResultSettingsMap": {},
     "title": ""
    }
   },
   "source": [
    "<h3 id=\"method\">Métodos</h3>"
   ]
  },
  {
   "cell_type": "markdown",
   "metadata": {
    "application/vnd.databricks.v1+cell": {
     "cellMetadata": {},
     "inputWidgets": {},
     "nuid": "fb7679e5-79e9-4bee-9954-9e6662dbdfac",
     "showTitle": false,
     "tableResultSettingsMap": {},
     "title": ""
    }
   },
   "source": [
    "Los métodos permiten cambiar o interactuar con el objeto; los métodos son funciones que interactúan con los objetos. Por ejemplo, digamos que queremos incrementar el radio (radius) de un círculo. Podemos crear un método llamado **add_radius(r)** que incremenete el radio por **r**. Esto se muestra en la figura 3, donde después de usar el método al objeto “orange circle”, el radio aumenta. El “punto” significa que el método será aplica a ese objeto, que en esencia es ejecutar una función sobre la información del objeto."
   ]
  },
  {
   "cell_type": "markdown",
   "metadata": {
    "application/vnd.databricks.v1+cell": {
     "cellMetadata": {},
     "inputWidgets": {},
     "nuid": "8f4cf72a-06c6-448e-9208-c20997a7ba2c",
     "showTitle": false,
     "tableResultSettingsMap": {},
     "title": ""
    }
   },
   "source": [
    "<img src=\"https://s3-api.us-geo.objectstorage.softlayer.net/cf-courses-data/CognitiveClass/PY0101EN/Chapter%203/Images/ClassesMethod.png\" width=\"500\" />"
   ]
  },
  {
   "cell_type": "markdown",
   "metadata": {
    "application/vnd.databricks.v1+cell": {
     "cellMetadata": {},
     "inputWidgets": {},
     "nuid": "5e80dc26-5f4d-4ee3-b896-e93f76da7ce1",
     "showTitle": false,
     "tableResultSettingsMap": {},
     "title": ""
    }
   },
   "source": [
    "<i>Figura 3: Aplicar el método “add_radius” al objeto “orange circle”.</i>"
   ]
  },
  {
   "cell_type": "markdown",
   "metadata": {
    "application/vnd.databricks.v1+cell": {
     "cellMetadata": {},
     "inputWidgets": {},
     "nuid": "ce4516bd-ac83-4694-b6eb-b0536871a320",
     "showTitle": false,
     "tableResultSettingsMap": {},
     "title": ""
    }
   },
   "source": [
    "<h2 id=\"creating\">Crear una Clase</h2>"
   ]
  },
  {
   "cell_type": "markdown",
   "metadata": {
    "application/vnd.databricks.v1+cell": {
     "cellMetadata": {},
     "inputWidgets": {},
     "nuid": "88abd82a-5f55-4e96-a0c4-4508217d32b9",
     "showTitle": false,
     "tableResultSettingsMap": {},
     "title": ""
    }
   },
   "source": [
    "Creemos ahora una clase circle, pero primero, importemos una librería para dibujar objetos:"
   ]
  },
  {
   "cell_type": "code",
   "execution_count": 0,
   "metadata": {
    "application/vnd.databricks.v1+cell": {
     "cellMetadata": {
      "byteLimit": 2048000,
      "rowLimit": 10000
     },
     "inputWidgets": {},
     "nuid": "6c2dc251-7120-4d7c-92ff-302e4d6723a8",
     "showTitle": false,
     "tableResultSettingsMap": {},
     "title": ""
    },
    "collapsed": true
   },
   "outputs": [],
   "source": [
    "# Importar la librería\n",
    "\n",
    "import matplotlib.pyplot as plt\n",
    "%matplotlib inline  "
   ]
  },
  {
   "cell_type": "markdown",
   "metadata": {
    "application/vnd.databricks.v1+cell": {
     "cellMetadata": {},
     "inputWidgets": {},
     "nuid": "733408b7-0f7b-4038-90ba-4eb5ef5e55ee",
     "showTitle": false,
     "tableResultSettingsMap": {},
     "title": ""
    }
   },
   "source": [
    "El primer paso en la creación de nuestra clase es usar la palabra reservada <code>class</code>, y después el nombre de la clase como se muestra en la figura 4. En este curso la clase padre será siempre objeto:"
   ]
  },
  {
   "cell_type": "markdown",
   "metadata": {
    "application/vnd.databricks.v1+cell": {
     "cellMetadata": {},
     "inputWidgets": {},
     "nuid": "0e2ededa-a066-42fa-819a-a7011a3dc21a",
     "showTitle": false,
     "tableResultSettingsMap": {},
     "title": ""
    }
   },
   "source": [
    "<img src=\"https://s3-api.us-geo.objectstorage.softlayer.net/cf-courses-data/CognitiveClass/PY0101EN/Chapter%203/Images/ClassesDefine.png\" width=\"400\" />"
   ]
  },
  {
   "cell_type": "markdown",
   "metadata": {
    "application/vnd.databricks.v1+cell": {
     "cellMetadata": {},
     "inputWidgets": {},
     "nuid": "80f87dfe-0b04-4362-91c5-b3543c5699b7",
     "showTitle": false,
     "tableResultSettingsMap": {},
     "title": ""
    }
   },
   "source": [
    "<i>Figura 4: Tres instancias de la clase circle o, dicho de otra forma, tres objetos de tipo circle.</i>"
   ]
  },
  {
   "cell_type": "markdown",
   "metadata": {
    "application/vnd.databricks.v1+cell": {
     "cellMetadata": {},
     "inputWidgets": {},
     "nuid": "82e406ce-7acc-4e62-bb2c-6153c7b67c34",
     "showTitle": false,
     "tableResultSettingsMap": {},
     "title": ""
    }
   },
   "source": [
    "El siguiente paso es el método especial llamado constructor <code>&#95;&#95;init&#95;&#95;</code>, que es usado para inicializar el objeto. La entrada son datos para los atributos. El termino <code>self</code> contiene todos los atributos del grupo. Por ejemplo <code>self.color</code> asigna el valor del atributo color y <code>self.radius</code> valor del radio. También tenemos el método <code>add_radius()</code> con el parámetro <code>r</code>, el método suma el valor de <code>r</code> al atributo radius. Para acceder al valor de radius usamos la sintaxis <code>self.radius</code>. El etiquetado se resume en la Figura 5."
   ]
  },
  {
   "cell_type": "markdown",
   "metadata": {
    "application/vnd.databricks.v1+cell": {
     "cellMetadata": {},
     "inputWidgets": {},
     "nuid": "6d5af4f9-b268-4903-a5a6-1d7ce3c7785f",
     "showTitle": false,
     "tableResultSettingsMap": {},
     "title": ""
    }
   },
   "source": [
    "<img src=\"https://s3-api.us-geo.objectstorage.softlayer.net/cf-courses-data/CognitiveClass/PY0101EN/Chapter%203/Images/ClassesCircle.png\" width=\"600\" />"
   ]
  },
  {
   "cell_type": "markdown",
   "metadata": {
    "application/vnd.databricks.v1+cell": {
     "cellMetadata": {},
     "inputWidgets": {},
     "nuid": "0ce6a097-932d-4b15-b800-c33b4846c392",
     "showTitle": false,
     "tableResultSettingsMap": {},
     "title": ""
    }
   },
   "source": [
    "<i>Figura 5: Sintaxis del objeto circle.</i>"
   ]
  },
  {
   "cell_type": "markdown",
   "metadata": {
    "application/vnd.databricks.v1+cell": {
     "cellMetadata": {},
     "inputWidgets": {},
     "nuid": "4bedef91-0fb8-4de7-bca1-9fdcd305137b",
     "showTitle": false,
     "tableResultSettingsMap": {},
     "title": ""
    }
   },
   "source": [
    "El objeto actual se muestra mas adelante. Incluimos el método <code>drawCircle</code> para mostrar la imagen de un circulo. Asignamos el valor de radius en 3 y el color en azul (blue):"
   ]
  },
  {
   "cell_type": "code",
   "execution_count": 0,
   "metadata": {
    "application/vnd.databricks.v1+cell": {
     "cellMetadata": {
      "byteLimit": 2048000,
      "rowLimit": 10000
     },
     "inputWidgets": {},
     "nuid": "dd58a547-4450-4f8a-879d-32f02921dae3",
     "showTitle": false,
     "tableResultSettingsMap": {},
     "title": ""
    }
   },
   "outputs": [],
   "source": [
    "# Crear la clase Circle\n",
    "\n",
    "class Circle(object):\n",
    "    \n",
    "    # Constructor\n",
    "    def __init__(self, radius=3, color='blue'):\n",
    "        self.radius = radius\n",
    "        self.color = color \n",
    "    \n",
    "    # Method\n",
    "    def add_radius(self, r):\n",
    "        self.radius = self.radius + r\n",
    "        return(self.radius)\n",
    "    \n",
    "    # Method\n",
    "    def drawCircle(self):\n",
    "        plt.gca().add_patch(plt.Circle((0, 0), radius=self.radius, fc=self.color))\n",
    "        plt.axis('scaled')\n",
    "        plt.show()  "
   ]
  },
  {
   "cell_type": "markdown",
   "metadata": {
    "application/vnd.databricks.v1+cell": {
     "cellMetadata": {},
     "inputWidgets": {},
     "nuid": "b6e12848-3c4b-482f-bd68-91fdbe51f3d9",
     "showTitle": false,
     "tableResultSettingsMap": {},
     "title": ""
    }
   },
   "source": [
    "<h2 id=\"circle\">Crear una instancia de la clase Circulo</h2>"
   ]
  },
  {
   "cell_type": "markdown",
   "metadata": {
    "application/vnd.databricks.v1+cell": {
     "cellMetadata": {},
     "inputWidgets": {},
     "nuid": "c9d75fa2-a312-47b7-b89b-d60ebde77b3f",
     "showTitle": false,
     "tableResultSettingsMap": {},
     "title": ""
    }
   },
   "source": [
    "Vamos a crear el objeto <code>RedCircle</code> de tipo Circle para hacer lo siguiente:"
   ]
  },
  {
   "cell_type": "code",
   "execution_count": 0,
   "metadata": {
    "application/vnd.databricks.v1+cell": {
     "cellMetadata": {
      "byteLimit": 2048000,
      "rowLimit": 10000
     },
     "inputWidgets": {},
     "nuid": "ac1ddc2e-e928-408f-b8d0-dee94e38974f",
     "showTitle": false,
     "tableResultSettingsMap": {},
     "title": ""
    }
   },
   "outputs": [],
   "source": [
    "# Crear un objeto RedCircle\n",
    "\n",
    "RedCircle = Circle(10, 'red')"
   ]
  },
  {
   "cell_type": "markdown",
   "metadata": {
    "application/vnd.databricks.v1+cell": {
     "cellMetadata": {},
     "inputWidgets": {},
     "nuid": "097af04b-b651-4163-80a0-1ff36e4a3cb2",
     "showTitle": false,
     "tableResultSettingsMap": {},
     "title": ""
    }
   },
   "source": [
    "Podemos usar el comando <code>dir</code> para obtener una lista de los métodos del objeto. Muchos de ellos son métodos por defecto de Python."
   ]
  },
  {
   "cell_type": "code",
   "execution_count": 0,
   "metadata": {
    "application/vnd.databricks.v1+cell": {
     "cellMetadata": {
      "byteLimit": 2048000,
      "rowLimit": 10000
     },
     "inputWidgets": {},
     "nuid": "6fb1d76d-c21a-4e27-a51b-f63bda82309f",
     "showTitle": false,
     "tableResultSettingsMap": {},
     "title": ""
    }
   },
   "outputs": [
    {
     "output_type": "stream",
     "name": "stdout",
     "output_type": "stream",
     "text": [
      "Out[4]: ['__class__',\n '__delattr__',\n '__dict__',\n '__dir__',\n '__doc__',\n '__eq__',\n '__format__',\n '__ge__',\n '__getattribute__',\n '__gt__',\n '__hash__',\n '__init__',\n '__init_subclass__',\n '__le__',\n '__lt__',\n '__module__',\n '__ne__',\n '__new__',\n '__reduce__',\n '__reduce_ex__',\n '__repr__',\n '__setattr__',\n '__sizeof__',\n '__str__',\n '__subclasshook__',\n '__weakref__',\n 'add_radius',\n 'color',\n 'drawCircle',\n 'radius']"
     ]
    }
   ],
   "source": [
    "# Obtener los métodos que pueden usarse en el objeto RedCircle\n",
    "\n",
    "dir(RedCircle)"
   ]
  },
  {
   "cell_type": "markdown",
   "metadata": {
    "application/vnd.databricks.v1+cell": {
     "cellMetadata": {},
     "inputWidgets": {},
     "nuid": "09f588a0-72d7-4432-8c00-b8497a5589a6",
     "showTitle": false,
     "tableResultSettingsMap": {},
     "title": ""
    }
   },
   "source": [
    "Veamos el valor de los atributos del objeto:"
   ]
  },
  {
   "cell_type": "code",
   "execution_count": 0,
   "metadata": {
    "application/vnd.databricks.v1+cell": {
     "cellMetadata": {
      "byteLimit": 2048000,
      "rowLimit": 10000
     },
     "inputWidgets": {},
     "nuid": "7d4cd880-62f5-424f-91d3-9ee1ceb3a937",
     "showTitle": false,
     "tableResultSettingsMap": {},
     "title": ""
    }
   },
   "outputs": [
    {
     "output_type": "stream",
     "name": "stdout",
     "output_type": "stream",
     "text": [
      "Out[5]: 10"
     ]
    }
   ],
   "source": [
    "# Imprime el atributo radius del objeto\n",
    "\n",
    "RedCircle.radius"
   ]
  },
  {
   "cell_type": "code",
   "execution_count": 0,
   "metadata": {
    "application/vnd.databricks.v1+cell": {
     "cellMetadata": {
      "byteLimit": 2048000,
      "rowLimit": 10000
     },
     "inputWidgets": {},
     "nuid": "308b4c0d-8d11-4ee6-850a-d564b0df991d",
     "showTitle": false,
     "tableResultSettingsMap": {},
     "title": ""
    }
   },
   "outputs": [
    {
     "output_type": "stream",
     "name": "stdout",
     "output_type": "stream",
     "text": [
      "Out[6]: 'red'"
     ]
    }
   ],
   "source": [
    "# Imprime el atributo color del objeto\n",
    "\n",
    "RedCircle.color"
   ]
  },
  {
   "cell_type": "markdown",
   "metadata": {
    "application/vnd.databricks.v1+cell": {
     "cellMetadata": {},
     "inputWidgets": {},
     "nuid": "db5bae48-efc3-4630-8068-2be3e1134674",
     "showTitle": false,
     "tableResultSettingsMap": {},
     "title": ""
    }
   },
   "source": [
    "Podemos cambiar el valor de los atributos del objeto:"
   ]
  },
  {
   "cell_type": "code",
   "execution_count": 0,
   "metadata": {
    "application/vnd.databricks.v1+cell": {
     "cellMetadata": {
      "byteLimit": 2048000,
      "rowLimit": 10000
     },
     "inputWidgets": {},
     "nuid": "5d0e601e-2df9-4f04-933c-9a00daca12f2",
     "showTitle": false,
     "tableResultSettingsMap": {},
     "title": ""
    }
   },
   "outputs": [
    {
     "output_type": "stream",
     "name": "stdout",
     "output_type": "stream",
     "text": [
      "Out[7]: 1"
     ]
    }
   ],
   "source": [
    "# Asigna un valor al atributo radius\n",
    "\n",
    "RedCircle.radius = 1\n",
    "RedCircle.radius"
   ]
  },
  {
   "cell_type": "markdown",
   "metadata": {
    "application/vnd.databricks.v1+cell": {
     "cellMetadata": {},
     "inputWidgets": {},
     "nuid": "04aa0f6f-1315-4062-bb2c-2bc9ab4d1b94",
     "showTitle": false,
     "tableResultSettingsMap": {},
     "title": ""
    }
   },
   "source": [
    "Dibujamos el objeto usando el método <code>drawCircle()</code>:"
   ]
  },
  {
   "cell_type": "code",
   "execution_count": 0,
   "metadata": {
    "application/vnd.databricks.v1+cell": {
     "cellMetadata": {
      "byteLimit": 2048000,
      "rowLimit": 10000
     },
     "inputWidgets": {},
     "nuid": "42473fea-2d78-4995-a69a-37e7afa511b3",
     "showTitle": false,
     "tableResultSettingsMap": {},
     "title": ""
    }
   },
   "outputs": [
    {
     "output_type": "display_data",
     "data": {
      "image/png": "[encoded data removed]"
     },
     "metadata": {
      "application/vnd.databricks.v1+output": {
       "addedWidgets": {},
       "arguments": {},
       "data": "data:image/png;base64,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\n",
       "datasetInfos": [],
       "metadata": {},
       "removedWidgets": [],
       "type": "image"
      }
     },
     "output_type": "display_data"
    }
   ],
   "source": [
    "# Llamada al método drawCircle\n",
    "\n",
    "RedCircle.drawCircle()"
   ]
  },
  {
   "cell_type": "markdown",
   "metadata": {
    "application/vnd.databricks.v1+cell": {
     "cellMetadata": {},
     "inputWidgets": {},
     "nuid": "2a28904e-fd62-427a-9e83-0b13d3f919c1",
     "showTitle": false,
     "tableResultSettingsMap": {},
     "title": ""
    }
   },
   "source": [
    "Podemos incrementar el radio del circulo utilizando el metodo <code>add_radius()</code>. Incrementémoslo a 2 y después a 5:"
   ]
  },
  {
   "cell_type": "code",
   "execution_count": 0,
   "metadata": {
    "application/vnd.databricks.v1+cell": {
     "cellMetadata": {
      "byteLimit": 2048000,
      "rowLimit": 10000
     },
     "inputWidgets": {},
     "nuid": "99b2cdc8-762a-4588-9312-a6ceda9064bf",
     "showTitle": false,
     "tableResultSettingsMap": {},
     "title": ""
    }
   },
   "outputs": [
    {
     "output_type": "stream",
     "name": "stdout",
     "output_type": "stream",
     "text": [
      "Radius of object: 1\nRadius of object of after applying the method add_radius(2): 3\nRadius of object of after applying the method add_radius(5): 8\n"
     ]
    }
   ],
   "source": [
    "# Usar el método para modificar el atributo radius\n",
    "\n",
    "print('Radius of object:',RedCircle.radius)\n",
    "RedCircle.add_radius(2)\n",
    "print('Radius of object of after applying the method add_radius(2):',RedCircle.radius)\n",
    "RedCircle.add_radius(5)\n",
    "print('Radius of object of after applying the method add_radius(5):',RedCircle.radius)"
   ]
  },
  {
   "cell_type": "markdown",
   "metadata": {
    "application/vnd.databricks.v1+cell": {
     "cellMetadata": {},
     "inputWidgets": {},
     "nuid": "dae3eaef-46a4-4901-b8f6-ac7d5fec26ec",
     "showTitle": false,
     "tableResultSettingsMap": {},
     "title": ""
    }
   },
   "source": [
    "Vamos a crear un circulo azul. Su color por defecto será azul (blue), solo debemos especificar el valor que queremos darle al radio:"
   ]
  },
  {
   "cell_type": "code",
   "execution_count": 0,
   "metadata": {
    "application/vnd.databricks.v1+cell": {
     "cellMetadata": {
      "byteLimit": 2048000,
      "rowLimit": 10000
     },
     "inputWidgets": {},
     "nuid": "81ca4694-8612-4dd4-ac5f-8b02973d9204",
     "showTitle": false,
     "tableResultSettingsMap": {},
     "title": ""
    }
   },
   "outputs": [],
   "source": [
    "# Crear un círculo azul con un radio especifico\n",
    "\n",
    "BlueCircle = Circle(radius=100)"
   ]
  },
  {
   "cell_type": "markdown",
   "metadata": {
    "application/vnd.databricks.v1+cell": {
     "cellMetadata": {},
     "inputWidgets": {},
     "nuid": "089ed530-c1cb-4024-90fc-3817242dd330",
     "showTitle": false,
     "tableResultSettingsMap": {},
     "title": ""
    }
   },
   "source": [
    "Al igual que antes, también podemos acceder los atributos de una instancia al usar el punto ( . ):"
   ]
  },
  {
   "cell_type": "code",
   "execution_count": 0,
   "metadata": {
    "application/vnd.databricks.v1+cell": {
     "cellMetadata": {
      "byteLimit": 2048000,
      "rowLimit": 10000
     },
     "inputWidgets": {},
     "nuid": "514c8982-b907-4639-ac86-b9aef5667818",
     "showTitle": false,
     "tableResultSettingsMap": {},
     "title": ""
    }
   },
   "outputs": [
    {
     "output_type": "stream",
     "name": "stdout",
     "output_type": "stream",
     "text": [
      "Out[11]: 100"
     ]
    }
   ],
   "source": [
    "# Imprimir el atributo radius del objeto\n",
    "\n",
    "BlueCircle.radius"
   ]
  },
  {
   "cell_type": "code",
   "execution_count": 0,
   "metadata": {
    "application/vnd.databricks.v1+cell": {
     "cellMetadata": {
      "byteLimit": 2048000,
      "rowLimit": 10000
     },
     "inputWidgets": {},
     "nuid": "8b15ba5c-2984-4332-bf90-ce4584a0b010",
     "showTitle": false,
     "tableResultSettingsMap": {},
     "title": ""
    }
   },
   "outputs": [
    {
     "output_type": "stream",
     "name": "stdout",
     "output_type": "stream",
     "text": [
      "Out[13]: 'blue'"
     ]
    }
   ],
   "source": [
    "# Imprimir el atributo color del objeto\n",
    "\n",
    "BlueCircle.color"
   ]
  },
  {
   "cell_type": "markdown",
   "metadata": {
    "application/vnd.databricks.v1+cell": {
     "cellMetadata": {},
     "inputWidgets": {},
     "nuid": "84f5058b-965f-46c2-8ad2-d37e6bfb9834",
     "showTitle": false,
     "tableResultSettingsMap": {},
     "title": ""
    }
   },
   "source": [
    "Podemos dibujar el objeto utilizando el método <code>drawCircle()</code>:"
   ]
  },
  {
   "cell_type": "code",
   "execution_count": 0,
   "metadata": {
    "application/vnd.databricks.v1+cell": {
     "cellMetadata": {
      "byteLimit": 2048000,
      "rowLimit": 10000
     },
     "inputWidgets": {},
     "nuid": "d09bec22-caf1-447f-b146-2e0a24d97fdf",
     "showTitle": false,
     "tableResultSettingsMap": {},
     "title": ""
    }
   },
   "outputs": [
    {
     "output_type": "display_data",
     "data": {
      "image/png": "[encoded data removed]"
     },
     "metadata": {
      "application/vnd.databricks.v1+output": {
       "addedWidgets": {},
       "arguments": {},
       "data": "data:image/png;base64,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\n",
       "datasetInfos": [],
       "metadata": {},
       "removedWidgets": [],
       "type": "image"
      }
     },
     "output_type": "display_data"
    }
   ],
   "source": [
    "# Llamada al método drawCircle\n",
    "\n",
    "BlueCircle.drawCircle()"
   ]
  },
  {
   "cell_type": "markdown",
   "metadata": {
    "application/vnd.databricks.v1+cell": {
     "cellMetadata": {},
     "inputWidgets": {},
     "nuid": "bc525b7a-6c9e-4d4e-b31b-57868ff42b30",
     "showTitle": false,
     "tableResultSettingsMap": {},
     "title": ""
    }
   },
   "source": [
    "Compara el eje “x” y “y” de la figura <code>RedCircle</code>; veras que son distintos."
   ]
  },
  {
   "cell_type": "markdown",
   "metadata": {
    "application/vnd.databricks.v1+cell": {
     "cellMetadata": {},
     "inputWidgets": {},
     "nuid": "35376e68-5ca2-4736-b6db-e0ee6d9cbd48",
     "showTitle": false,
     "tableResultSettingsMap": {},
     "title": ""
    }
   },
   "source": [
    "<h2 id=\"rect\">La Clase Rectángulo</h2>"
   ]
  },
  {
   "cell_type": "markdown",
   "metadata": {
    "application/vnd.databricks.v1+cell": {
     "cellMetadata": {},
     "inputWidgets": {},
     "nuid": "f482905f-9332-425e-bcd9-f924195215d8",
     "showTitle": false,
     "tableResultSettingsMap": {},
     "title": ""
    }
   },
   "source": [
    "Vamos a crear una clase rectángulo con los atributos height (altura) y color. Solo añadiremos el método para dibujar un rectángulo:"
   ]
  },
  {
   "cell_type": "code",
   "execution_count": 0,
   "metadata": {
    "application/vnd.databricks.v1+cell": {
     "cellMetadata": {
      "byteLimit": 2048000,
      "rowLimit": 10000
     },
     "inputWidgets": {},
     "nuid": "245a0f31-bf8d-40fd-a647-d1ae988f55e6",
     "showTitle": false,
     "tableResultSettingsMap": {},
     "title": ""
    },
    "collapsed": true
   },
   "outputs": [],
   "source": [
    "# Crear una nueva clase Rectangle para construir un objeto rectangulo\n",
    "\n",
    "class Rectangle(object):\n",
    "    \n",
    "    # Constructor\n",
    "    def __init__(self, width=2, height=3, color='r'):\n",
    "        self.height = height \n",
    "        self.width = width\n",
    "        self.color = color\n",
    "    \n",
    "    # Method\n",
    "    def drawRectangle(self):\n",
    "        plt.gca().add_patch(plt.Rectangle((0, 0), self.width, self.height ,fc=self.color))\n",
    "        plt.axis('scaled')\n",
    "        plt.show()"
   ]
  },
  {
   "cell_type": "markdown",
   "metadata": {
    "application/vnd.databricks.v1+cell": {
     "cellMetadata": {},
     "inputWidgets": {},
     "nuid": "b42b0b1d-d10b-42a0-a490-892af6a592e2",
     "showTitle": false,
     "tableResultSettingsMap": {},
     "title": ""
    }
   },
   "source": [
    "Creamos el objeto <code>SkinnyBlueRectangle</code> de tipo Rectangle. Su anchura (width) será de 2 y la altura (height) de 3, será de color azul:"
   ]
  },
  {
   "cell_type": "code",
   "execution_count": 0,
   "metadata": {
    "application/vnd.databricks.v1+cell": {
     "cellMetadata": {
      "byteLimit": 2048000,
      "rowLimit": 10000
     },
     "inputWidgets": {},
     "nuid": "f085297a-766c-4db7-8ce2-796be0e1bf24",
     "showTitle": false,
     "tableResultSettingsMap": {},
     "title": ""
    }
   },
   "outputs": [
    {
     "output_type": "stream",
     "name": "stdout",
     "output_type": "stream",
     "text": [
      "Rectangle(width=2, height=10, color=blue)\n"
     ]
    }
   ],
   "source": [
    "# Definimos la clase Rectangle\n",
    "class Rectangle:\n",
    "    def __init__(self, width, height, color):\n",
    "        self.width = width\n",
    "        self.height = height\n",
    "        self.color = color\n",
    "\n",
    "    def __str__(self):\n",
    "        return f\"Rectangle(width={self.width}, height={self.height}, color={self.color})\"\n",
    "\n",
    "# Crear el objeto SkinnyBlueRectangle\n",
    "SkinnyBlueRectangle = Rectangle(2, 10, 'blue')\n",
    "\n",
    "# Imprimir el objeto para verificar sus atributos\n",
    "print(SkinnyBlueRectangle)\n"
   ]
  },
  {
   "cell_type": "markdown",
   "metadata": {
    "application/vnd.databricks.v1+cell": {
     "cellMetadata": {},
     "inputWidgets": {},
     "nuid": "d3200ec8-9065-4d78-878f-7637011811d5",
     "showTitle": false,
     "tableResultSettingsMap": {},
     "title": ""
    }
   },
   "source": [
    "Al igual que antes, también podemos acceder los atributos de una instancia al usar el punto ( . ):"
   ]
  },
  {
   "cell_type": "code",
   "execution_count": 0,
   "metadata": {
    "application/vnd.databricks.v1+cell": {
     "cellMetadata": {
      "byteLimit": 2048000,
      "rowLimit": 10000
     },
     "inputWidgets": {},
     "nuid": "cc8d1ddd-a350-4072-a9e8-358ca517fc13",
     "showTitle": false,
     "tableResultSettingsMap": {},
     "title": ""
    }
   },
   "outputs": [
    {
     "output_type": "stream",
     "name": "stdout",
     "output_type": "stream",
     "text": [
      "Out[17]: 10"
     ]
    }
   ],
   "source": [
    "# Imprimir el atributo height (altura en inglés) del objeto\n",
    "\n",
    "SkinnyBlueRectangle.height "
   ]
  },
  {
   "cell_type": "code",
   "execution_count": 0,
   "metadata": {
    "application/vnd.databricks.v1+cell": {
     "cellMetadata": {
      "byteLimit": 2048000,
      "rowLimit": 10000
     },
     "inputWidgets": {},
     "nuid": "9ba105bf-c2f6-4089-a843-18bca77137fb",
     "showTitle": false,
     "tableResultSettingsMap": {},
     "title": ""
    }
   },
   "outputs": [
    {
     "output_type": "stream",
     "name": "stdout",
     "output_type": "stream",
     "text": [
      "Out[18]: 2"
     ]
    }
   ],
   "source": [
    "# Imprimir el atributo width (anchura en inglés) del objeto\n",
    "\n",
    "SkinnyBlueRectangle.width"
   ]
  },
  {
   "cell_type": "code",
   "execution_count": 0,
   "metadata": {
    "application/vnd.databricks.v1+cell": {
     "cellMetadata": {
      "byteLimit": 2048000,
      "rowLimit": 10000
     },
     "inputWidgets": {},
     "nuid": "5e53cc65-f1d3-4adf-8c81-4cf6b1743ed3",
     "showTitle": false,
     "tableResultSettingsMap": {},
     "title": ""
    }
   },
   "outputs": [
    {
     "output_type": "stream",
     "name": "stdout",
     "output_type": "stream",
     "text": [
      "Out[19]: 'blue'"
     ]
    }
   ],
   "source": [
    "# Imprimir el atributo color del objeto\n",
    "\n",
    "SkinnyBlueRectangle.color"
   ]
  },
  {
   "cell_type": "markdown",
   "metadata": {
    "application/vnd.databricks.v1+cell": {
     "cellMetadata": {},
     "inputWidgets": {},
     "nuid": "c66efe18-ff14-42d1-9fcc-f9808a5ce6a1",
     "showTitle": false,
     "tableResultSettingsMap": {},
     "title": ""
    }
   },
   "source": [
    "Podemos dibujar el objeto:"
   ]
  },
  {
   "cell_type": "code",
   "execution_count": 0,
   "metadata": {
    "application/vnd.databricks.v1+cell": {
     "cellMetadata": {
      "byteLimit": 2048000,
      "rowLimit": 10000
     },
     "inputWidgets": {},
     "nuid": "37e70a22-9e9d-4157-95a7-27bb3ec9ba52",
     "showTitle": false,
     "tableResultSettingsMap": {},
     "title": ""
    },
    "scrolled": true
   },
   "outputs": [
    {
     "output_type": "display_data",
     "data": {
      "image/png": "[encoded data removed]"
     },
     "metadata": {
      "application/vnd.databricks.v1+output": {
       "addedWidgets": {},
       "arguments": {},
       "data": "data:image/png;base64,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\n",
       "datasetInfos": [],
       "metadata": {},
       "removedWidgets": [],
       "type": "image"
      }
     },
     "output_type": "display_data"
    }
   ],
   "source": [
    "# Usar el método drawRectangle para dibujar la figura\n",
    "\n",
    "SkinnyBlueRectangle.drawRectangle()"
   ]
  },
  {
   "cell_type": "markdown",
   "metadata": {
    "application/vnd.databricks.v1+cell": {
     "cellMetadata": {},
     "inputWidgets": {},
     "nuid": "eb681673-01d5-4086-95b3-535dfe33a1fd",
     "showTitle": false,
     "tableResultSettingsMap": {},
     "title": ""
    }
   },
   "source": [
    "Vamos a crear el objeto <code>FatYellowRectangle</code del tipo Rectangle:"
   ]
  },
  {
   "cell_type": "code",
   "execution_count": 0,
   "metadata": {
    "application/vnd.databricks.v1+cell": {
     "cellMetadata": {
      "byteLimit": 2048000,
      "rowLimit": 10000
     },
     "inputWidgets": {},
     "nuid": "934d0401-2af3-4eaf-b38f-5f09c0209a98",
     "showTitle": false,
     "tableResultSettingsMap": {},
     "title": ""
    },
    "collapsed": true
   },
   "outputs": [],
   "source": [
    "FatYellowRectangle = Rectangle(20, 5, 'yellow')\n",
    "\n"
   ]
  },
  {
   "cell_type": "markdown",
   "metadata": {
    "application/vnd.databricks.v1+cell": {
     "cellMetadata": {},
     "inputWidgets": {},
     "nuid": "0371cc1d-6135-48e7-a251-905f8e53cac4",
     "showTitle": false,
     "tableResultSettingsMap": {},
     "title": ""
    }
   },
   "source": [
    "We can access the attributes of the instance of the class by using the dot notation:"
   ]
  },
  {
   "cell_type": "code",
   "execution_count": 0,
   "metadata": {
    "application/vnd.databricks.v1+cell": {
     "cellMetadata": {
      "byteLimit": 2048000,
      "rowLimit": 10000
     },
     "inputWidgets": {},
     "nuid": "c61da318-d6ab-4e90-b750-d7e3f2f25696",
     "showTitle": false,
     "tableResultSettingsMap": {},
     "title": ""
    }
   },
   "outputs": [
    {
     "output_type": "stream",
     "name": "stdout",
     "output_type": "stream",
     "text": [
      "Out[29]: 5"
     ]
    }
   ],
   "source": [
    "# Imprimir el atributo height (altura en inglés) del objeto\n",
    "\n",
    "FatYellowRectangle.height "
   ]
  },
  {
   "cell_type": "code",
   "execution_count": 0,
   "metadata": {
    "application/vnd.databricks.v1+cell": {
     "cellMetadata": {
      "byteLimit": 2048000,
      "rowLimit": 10000
     },
     "inputWidgets": {},
     "nuid": "4a199837-3d96-4757-816c-eb8f618ea7e2",
     "showTitle": false,
     "tableResultSettingsMap": {},
     "title": ""
    }
   },
   "outputs": [
    {
     "output_type": "stream",
     "name": "stdout",
     "output_type": "stream",
     "text": [
      "Out[30]: 20"
     ]
    }
   ],
   "source": [
    "# Imprimir el atributo width (anchura en inglés) del objeto\n",
    "\n",
    "FatYellowRectangle.width"
   ]
  },
  {
   "cell_type": "code",
   "execution_count": 0,
   "metadata": {
    "application/vnd.databricks.v1+cell": {
     "cellMetadata": {
      "byteLimit": 2048000,
      "rowLimit": 10000
     },
     "inputWidgets": {},
     "nuid": "dad42886-e367-400a-8fc2-aed0219ac407",
     "showTitle": false,
     "tableResultSettingsMap": {},
     "title": ""
    }
   },
   "outputs": [
    {
     "output_type": "stream",
     "name": "stdout",
     "output_type": "stream",
     "text": [
      "Out[31]: 'yellow'"
     ]
    }
   ],
   "source": [
    "# Imprimir el atributo color del objeto\n",
    "\n",
    "FatYellowRectangle.color"
   ]
  },
  {
   "cell_type": "markdown",
   "metadata": {
    "application/vnd.databricks.v1+cell": {
     "cellMetadata": {},
     "inputWidgets": {},
     "nuid": "6351e31b-53f3-4882-bf2d-796d4d0d30d3",
     "showTitle": false,
     "tableResultSettingsMap": {},
     "title": ""
    }
   },
   "source": [
    "Podemos dibujar el objeto:"
   ]
  },
  {
   "cell_type": "code",
   "execution_count": 0,
   "metadata": {
    "application/vnd.databricks.v1+cell": {
     "cellMetadata": {
      "byteLimit": 2048000,
      "rowLimit": 10000
     },
     "inputWidgets": {},
     "nuid": "fd5ca1c5-9600-4284-9f25-aa9a13d07650",
     "showTitle": false,
     "tableResultSettingsMap": {},
     "title": ""
    }
   },
   "outputs": [
    {
     "output_type": "display_data",
     "data": {
      "image/png": "[encoded data removed]"
     },
     "metadata": {
      "application/vnd.databricks.v1+output": {
       "addedWidgets": {},
       "arguments": {},
       "data": "data:image/png;base64,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\n",
       "datasetInfos": [],
       "metadata": {},
       "removedWidgets": [],
       "type": "image"
      }
     },
     "output_type": "display_data"
    }
   ],
   "source": [
    "import matplotlib.pyplot as plt\n",
    "\n",
    "# Clase Rectangle con el método drawRectangle\n",
    "class Rectangle:\n",
    "    def __init__(self, width, height, color):\n",
    "        self.width = width\n",
    "        self.height = height\n",
    "        self.color = color\n",
    "\n",
    "    def drawRectangle(self):\n",
    "        \"\"\"Dibuja el rectángulo usando matplotlib.\"\"\"\n",
    "        fig, ax = plt.subplots()\n",
    "        # Crear un rectángulo\n",
    "        rectangle = plt.Rectangle((0, 0), self.width, self.height, color=self.color)\n",
    "        ax.add_patch(rectangle)\n",
    "        # Ajustar los límites del gráfico\n",
    "        ax.set_xlim(0, self.width + 5)\n",
    "        ax.set_ylim(0, self.height + 5)\n",
    "        plt.axis('equal')\n",
    "        plt.show()\n",
    "\n",
    "# Crear un objeto y dibujarlo\n",
    "FatYellowRectangle = Rectangle(20, 5, 'yellow')\n",
    "FatYellowRectangle.drawRectangle()\n"
   ]
  }
 ],
 "metadata": {
  "application/vnd.databricks.v1+notebook": {
   "computePreferences": null,
   "dashboards": [],
   "environmentMetadata": null,
   "language": "python",
   "notebookMetadata": {
    "pythonIndentUnit": 2
   },
   "notebookName": "09-Python-Clases",
   "widgets": {}
  },
  "kernelspec": {
   "display_name": "Python 3",
   "language": "python",
   "name": "python3"
  },
  "language_info": {
   "codemirror_mode": {
    "name": "ipython",
    "version": 3
   },
   "file_extension": ".py",
   "mimetype": "text/x-python",
   "name": "python",
   "nbconvert_exporter": "python",
   "pygments_lexer": "ipython3",
   "version": "3.7.7"
  }
 },
 "nbformat": 4,
 "nbformat_minor": 0
}
