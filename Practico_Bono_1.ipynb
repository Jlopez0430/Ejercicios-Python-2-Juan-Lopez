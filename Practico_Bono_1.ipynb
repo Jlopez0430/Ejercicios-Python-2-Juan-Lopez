{
 "cells": [
  {
   "cell_type": "markdown",
   "metadata": {
    "application/vnd.databricks.v1+cell": {
     "cellMetadata": {},
     "inputWidgets": {},
     "nuid": "5da1534b-43b7-4cea-93b0-189801f987ee",
     "showTitle": false,
     "tableResultSettingsMap": {},
     "title": ""
    },
    "id": "dkfTfb7kKfO8"
   },
   "source": [
    "## CALENTAMIENTO:"
   ]
  },
  {
   "cell_type": "markdown",
   "metadata": {
    "application/vnd.databricks.v1+cell": {
     "cellMetadata": {},
     "inputWidgets": {},
     "nuid": "0506991b-d4a3-4b7d-b93d-01913cd51dbe",
     "showTitle": false,
     "tableResultSettingsMap": {},
     "title": ""
    },
    "id": "jKNiFouRKfO8"
   },
   "source": [
    "#### MENOR DE DOS PARES: Escriba una función que devuelva el menor de dos números dados *si* ambos números son pares, pero devuelva el mayor si uno o ambos números son impares\n",
    "    lesser_of_two_evens(2,4) --> 2\n",
    "    lesser_of_two_evens(2,5) --> 5"
   ]
  },
  {
   "cell_type": "code",
   "execution_count": 0,
   "metadata": {
    "application/vnd.databricks.v1+cell": {
     "cellMetadata": {
      "byteLimit": 2048000,
      "rowLimit": 10000
     },
     "inputWidgets": {},
     "nuid": "bf235a0f-58ce-4291-858a-b83694dd9ef9",
     "showTitle": false,
     "tableResultSettingsMap": {},
     "title": ""
    },
    "id": "HF8_a_2IKfO8"
   },
   "outputs": [
    {
     "output_type": "stream",
     "name": "stdout",
     "output_type": "stream",
     "text": [
      "2\n5\n"
     ]
    }
   ],
   "source": [
    "def lesser_of_two_evens(a, b):\n",
    "    # Verificar si ambos números son pares\n",
    "    if a % 2 == 0 and b % 2 == 0:\n",
    "        return min(a, b)  # Devolver el menor de los dos números\n",
    "    else:\n",
    "        return max(a, b)  # Devolver el mayor si uno o ambos son impares\n",
    "\n",
    "# Ejemplos de uso\n",
    "print(lesser_of_two_evens(2, 4))  # Salida: 2\n",
    "print(lesser_of_two_evens(2, 5))  # Salida: 5\n",
    "        "
   ]
  },
  {
   "cell_type": "code",
   "execution_count": 0,
   "metadata": {
    "application/vnd.databricks.v1+cell": {
     "cellMetadata": {
      "byteLimit": 2048000,
      "rowLimit": 10000
     },
     "inputWidgets": {},
     "nuid": "8f49bd39-5e47-451e-919e-96e44456dcdc",
     "showTitle": false,
     "tableResultSettingsMap": {},
     "title": ""
    },
    "id": "fOv0K9mXKfO9",
    "outputId": "b22f779c-6706-4ede-95cc-c140ad565be1"
   },
   "outputs": [
    {
     "output_type": "stream",
     "name": "stdout",
     "output_type": "stream",
     "text": [
      "Out[3]: 2"
     ]
    }
   ],
   "source": [
    "# Revisión\n",
    "lesser_of_two_evens(2,4)"
   ]
  },
  {
   "cell_type": "code",
   "execution_count": 0,
   "metadata": {
    "application/vnd.databricks.v1+cell": {
     "cellMetadata": {
      "byteLimit": 2048000,
      "rowLimit": 10000
     },
     "inputWidgets": {},
     "nuid": "ba57c1c9-9504-4089-b50d-46ac4a658d8d",
     "showTitle": false,
     "tableResultSettingsMap": {},
     "title": ""
    },
    "id": "UMKYl4NgKfO-",
    "outputId": "9c980845-33dc-4af5-e00f-941bc34c9158"
   },
   "outputs": [
    {
     "output_type": "stream",
     "name": "stdout",
     "output_type": "stream",
     "text": [
      "Out[4]: 5"
     ]
    }
   ],
   "source": [
    "# Revisión\n",
    "lesser_of_two_evens(2,5)"
   ]
  },
  {
   "cell_type": "markdown",
   "metadata": {
    "application/vnd.databricks.v1+cell": {
     "cellMetadata": {},
     "inputWidgets": {},
     "nuid": "b23d1b3b-84e2-4e27-9203-15569f5b7a30",
     "showTitle": false,
     "tableResultSettingsMap": {},
     "title": ""
    },
    "id": "ZdEE37WBKfO-"
   },
   "source": [
    "#### GALLETAS DE ANIMALES: Escribir una función que toma una cadena de dos palabras y devuelve True si ambas palabras comienzan con la misma letra\n",
    "    animal_crackers('Ciudad Calor') --> True\n",
    "    animal_crackers('Lugar Frio') --> False"
   ]
  },
  {
   "cell_type": "code",
   "execution_count": 0,
   "metadata": {
    "application/vnd.databricks.v1+cell": {
     "cellMetadata": {
      "byteLimit": 2048000,
      "rowLimit": 10000
     },
     "inputWidgets": {},
     "nuid": "4bbfc312-d814-4d6c-8515-7e4256d21ceb",
     "showTitle": false,
     "tableResultSettingsMap": {},
     "title": ""
    },
    "id": "6JEJK4lcKfO_"
   },
   "outputs": [
    {
     "output_type": "stream",
     "name": "stdout",
     "output_type": "stream",
     "text": [
      "True\nFalse\n"
     ]
    }
   ],
   "source": [
    "def animal_crackers(text):\n",
    "    # Dividir el texto en palabras\n",
    "    words = text.split()\n",
    "    # Verificar si las primeras letras de ambas palabras son iguales (ignorando mayúsculas/minúsculas)\n",
    "    return words[0][0].lower() == words[1][0].lower()\n",
    "\n",
    "# Ejemplos de uso\n",
    "print(animal_crackers('Ciudad Calor'))  # Salida: True\n",
    "print(animal_crackers('Lugar Frio'))   # Salida: False\n"
   ]
  },
  {
   "cell_type": "code",
   "execution_count": 0,
   "metadata": {
    "application/vnd.databricks.v1+cell": {
     "cellMetadata": {
      "byteLimit": 2048000,
      "rowLimit": 10000
     },
     "inputWidgets": {},
     "nuid": "eb5ae633-51b0-47b3-8b3b-9f01c2c58a86",
     "showTitle": false,
     "tableResultSettingsMap": {},
     "title": ""
    },
    "id": "RZp5N4-6KfO_",
    "outputId": "6d328ca9-266d-48c7-f676-b754ef7ed006"
   },
   "outputs": [
    {
     "output_type": "stream",
     "name": "stdout",
     "output_type": "stream",
     "text": [
      "Out[6]: True"
     ]
    }
   ],
   "source": [
    "# Revisión\n",
    "animal_crackers('Ciudad Calor')"
   ]
  },
  {
   "cell_type": "code",
   "execution_count": 0,
   "metadata": {
    "application/vnd.databricks.v1+cell": {
     "cellMetadata": {
      "byteLimit": 2048000,
      "rowLimit": 10000
     },
     "inputWidgets": {},
     "nuid": "3be0be5c-dd09-48a9-9a56-52225ac99f9d",
     "showTitle": false,
     "tableResultSettingsMap": {},
     "title": ""
    },
    "id": "zaGYt5L8KfO_",
    "outputId": "4b223142-b306-4b30-ac82-0231c9bba8ae"
   },
   "outputs": [
    {
     "output_type": "stream",
     "name": "stdout",
     "output_type": "stream",
     "text": [
      "Out[7]: False"
     ]
    }
   ],
   "source": [
    "# Revisión\n",
    "animal_crackers('Lugar Frio')"
   ]
  },
  {
   "cell_type": "markdown",
   "metadata": {
    "application/vnd.databricks.v1+cell": {
     "cellMetadata": {},
     "inputWidgets": {},
     "nuid": "a1441b0d-b48c-4ebd-822c-f82853c05772",
     "showTitle": false,
     "tableResultSettingsMap": {},
     "title": ""
    },
    "id": "Xln0rzZ3KfPA"
   },
   "source": [
    "#### HACE VEINTE: dados dos enteros, devuelve True si la suma de los enteros es 20 o si uno de los enteros es 20. De lo contrario, devuelve False\n",
    "\n",
    "    makes_twenty(20,10) --> True\n",
    "    makes_twenty(12,8) --> True\n",
    "    makes_twenty(2,3) --> False"
   ]
  },
  {
   "cell_type": "code",
   "execution_count": 0,
   "metadata": {
    "application/vnd.databricks.v1+cell": {
     "cellMetadata": {
      "byteLimit": 2048000,
      "rowLimit": 10000
     },
     "inputWidgets": {},
     "nuid": "ec26c23c-efc1-4f98-bbd7-b2c4b8426a99",
     "showTitle": false,
     "tableResultSettingsMap": {},
     "title": ""
    },
    "id": "wBbR7Xx_KfPA"
   },
   "outputs": [
    {
     "output_type": "stream",
     "name": "stdout",
     "output_type": "stream",
     "text": [
      "True\nTrue\nFalse\n"
     ]
    }
   ],
   "source": [
    "def makes_twenty(n1, n2):\n",
    "    # Verificar si la suma es 20 o si uno de los números es 20\n",
    "    return n1 + n2 == 20 or n1 == 20 or n2 == 20\n",
    "\n",
    "# Ejemplos de uso\n",
    "print(makes_twenty(20, 10))  # Salida: True\n",
    "print(makes_twenty(12, 8))  # Salida: True\n",
    "print(makes_twenty(2, 3))   # Salida: False\n"
   ]
  },
  {
   "cell_type": "code",
   "execution_count": 0,
   "metadata": {
    "application/vnd.databricks.v1+cell": {
     "cellMetadata": {
      "byteLimit": 2048000,
      "rowLimit": 10000
     },
     "inputWidgets": {},
     "nuid": "6f2bab26-d257-4af5-a112-088f6d57b251",
     "showTitle": false,
     "tableResultSettingsMap": {},
     "title": ""
    },
    "id": "6jHiJxnwKfPA",
    "outputId": "9a14cffb-0f72-48c1-8619-7cfe26264915"
   },
   "outputs": [
    {
     "output_type": "stream",
     "name": "stdout",
     "output_type": "stream",
     "text": [
      "Out[9]: True"
     ]
    }
   ],
   "source": [
    "# Revisión\n",
    "makes_twenty(20,10)"
   ]
  },
  {
   "cell_type": "code",
   "execution_count": 0,
   "metadata": {
    "application/vnd.databricks.v1+cell": {
     "cellMetadata": {
      "byteLimit": 2048000,
      "rowLimit": 10000
     },
     "inputWidgets": {},
     "nuid": "27163ee9-e986-434c-9b94-e17a4365737d",
     "showTitle": false,
     "tableResultSettingsMap": {},
     "title": ""
    },
    "id": "zZIdlGLeKfPA",
    "outputId": "9272422f-c012-4f4e-d8e6-a64deeaafffe"
   },
   "outputs": [
    {
     "output_type": "stream",
     "name": "stdout",
     "output_type": "stream",
     "text": [
      "Out[10]: False"
     ]
    }
   ],
   "source": [
    "# Revisión\n",
    "makes_twenty(2,3)"
   ]
  },
  {
   "cell_type": "code",
   "execution_count": 0,
   "metadata": {
    "application/vnd.databricks.v1+cell": {
     "cellMetadata": {
      "byteLimit": 2048000,
      "rowLimit": 10000
     },
     "inputWidgets": {},
     "nuid": "6c312ffd-aced-4b52-86b6-34bc30d73fb3",
     "showTitle": false,
     "tableResultSettingsMap": {},
     "title": ""
    },
    "id": "BlJKTZX9KfPA",
    "outputId": "b973ebc9-e1c8-4a27-be98-968b062356c8"
   },
   "outputs": [
    {
     "output_type": "stream",
     "name": "stdout",
     "output_type": "stream",
     "text": [
      "Out[11]: True"
     ]
    }
   ],
   "source": [
    "makes_twenty(12,8)"
   ]
  },
  {
   "cell_type": "markdown",
   "metadata": {
    "application/vnd.databricks.v1+cell": {
     "cellMetadata": {},
     "inputWidgets": {},
     "nuid": "75900599-e67c-4e01-89d9-397c9486c552",
     "showTitle": false,
     "tableResultSettingsMap": {},
     "title": ""
    },
    "id": "d3Fka2vRKfPB"
   },
   "source": [
    "# Nivel 1"
   ]
  },
  {
   "cell_type": "markdown",
   "metadata": {
    "application/vnd.databricks.v1+cell": {
     "cellMetadata": {},
     "inputWidgets": {},
     "nuid": "c69eb9da-de46-4471-ae5f-e4e1b1616cbc",
     "showTitle": false,
     "tableResultSettingsMap": {},
     "title": ""
    },
    "id": "H_e_DMbnKfPB"
   },
   "source": [
    "#### MAYÚSCULAS: Escribir una función que haga mayúscula la primera y cuarta letra de una cadena de texto\n",
    "     \n",
    "    old_macdonald('macdonald') --> MacDonald\n",
    "    \n",
    "Note: `'macdonald'.capitalize()` returns `'Macdonald'`"
   ]
  },
  {
   "cell_type": "code",
   "execution_count": 0,
   "metadata": {
    "application/vnd.databricks.v1+cell": {
     "cellMetadata": {
      "byteLimit": 2048000,
      "rowLimit": 10000
     },
     "inputWidgets": {},
     "nuid": "f374a5f8-a510-4855-9d2f-48255aad1795",
     "showTitle": false,
     "tableResultSettingsMap": {},
     "title": ""
    },
    "id": "ZiXJrY8uKfPB"
   },
   "outputs": [
    {
     "output_type": "stream",
     "name": "stdout",
     "output_type": "stream",
     "text": [
      "MacDonald\nNombre demasiado corto\n"
     ]
    }
   ],
   "source": [
    "def old_macdonald(name):\n",
    "    # Verificar que el nombre tiene al menos 4 caracteres\n",
    "    if len(name) < 4:\n",
    "        return \"Nombre demasiado corto\"\n",
    "    \n",
    "    # Convertir la primera y cuarta letra a mayúsculas\n",
    "    return name[:1].upper() + name[1:3] + name[3:4].upper() + name[4:]\n",
    "\n",
    "# Ejemplo de uso\n",
    "print(old_macdonald('macdonald'))  # Salida: MacDonald\n",
    "print(old_macdonald('mac'))       # Salida: Nombre demasiado corto\n"
   ]
  },
  {
   "cell_type": "code",
   "execution_count": 0,
   "metadata": {
    "application/vnd.databricks.v1+cell": {
     "cellMetadata": {
      "byteLimit": 2048000,
      "rowLimit": 10000
     },
     "inputWidgets": {},
     "nuid": "5557132a-3d4c-483c-831a-d5eb911b4d2e",
     "showTitle": false,
     "tableResultSettingsMap": {},
     "title": ""
    },
    "id": "wtu_baYIKfPB",
    "outputId": "4e8b6e19-7e9e-4c6d-99df-63ec5d984748"
   },
   "outputs": [
    {
     "output_type": "stream",
     "name": "stdout",
     "output_type": "stream",
     "text": [
      "Out[13]: 'MacDonald'"
     ]
    }
   ],
   "source": [
    "# Check\n",
    "old_macdonald('macdonald')"
   ]
  },
  {
   "cell_type": "markdown",
   "metadata": {
    "application/vnd.databricks.v1+cell": {
     "cellMetadata": {},
     "inputWidgets": {},
     "nuid": "725bd676-31d8-4c2f-8041-d8d9c8ff2044",
     "showTitle": false,
     "tableResultSettingsMap": {},
     "title": ""
    },
    "id": "E24LlJo1KfPC"
   },
   "source": [
    "#### REVERSA: Dada una oración, retornar la misma oración pero en reversa\n",
    "\n",
    "    master_yoda('I am home') --> 'home am I'\n",
    "    master_yoda('We are ready') --> 'ready are We'\n",
    "    \n",
    "Note: Revisar método .join()\n",
    "\n",
    "    >>> \"--\".join(['a','b','c'])\n",
    "    >>> 'a--b--c'\n",
    "\n",
    "Resultado de .join():\n",
    "\n",
    "    >>> \" \".join(['Hello','world'])\n",
    "    >>> \"Hello world\""
   ]
  },
  {
   "cell_type": "code",
   "execution_count": 0,
   "metadata": {
    "application/vnd.databricks.v1+cell": {
     "cellMetadata": {
      "byteLimit": 2048000,
      "rowLimit": 10000
     },
     "inputWidgets": {},
     "nuid": "2136f5a3-9aec-4fb5-96d4-3bc9e95bef54",
     "showTitle": false,
     "tableResultSettingsMap": {},
     "title": ""
    },
    "id": "6K4nw15nKfPC"
   },
   "outputs": [
    {
     "output_type": "stream",
     "name": "stdout",
     "output_type": "stream",
     "text": [
      "home am I\nready are We\n"
     ]
    }
   ],
   "source": [
    "def master_yoda(text):\n",
    "    # Dividir la oración en palabras, invertir el orden y unirlas de nuevo\n",
    "    return ' '.join(text.split()[::-1])\n",
    "\n",
    "# Ejemplos de uso\n",
    "print(master_yoda('I am home'))       # Salida: home am I\n",
    "print(master_yoda('We are ready'))   # Salida: ready are We\n"
   ]
  },
  {
   "cell_type": "code",
   "execution_count": 0,
   "metadata": {
    "application/vnd.databricks.v1+cell": {
     "cellMetadata": {
      "byteLimit": 2048000,
      "rowLimit": 10000
     },
     "inputWidgets": {},
     "nuid": "560a9442-cf85-4d8d-8be3-2d952881a9b3",
     "showTitle": false,
     "tableResultSettingsMap": {},
     "title": ""
    },
    "id": "2DqSErszKfPD",
    "outputId": "d49d92dd-11d7-4b81-c69d-c8695193eb19"
   },
   "outputs": [
    {
     "output_type": "stream",
     "name": "stdout",
     "output_type": "stream",
     "text": [
      "Out[17]: 'home am I'"
     ]
    }
   ],
   "source": [
    "# Revisión\n",
    "master_yoda('I am home')"
   ]
  },
  {
   "cell_type": "code",
   "execution_count": 0,
   "metadata": {
    "application/vnd.databricks.v1+cell": {
     "cellMetadata": {
      "byteLimit": 2048000,
      "rowLimit": 10000
     },
     "inputWidgets": {},
     "nuid": "52450f79-51a4-4a55-89fe-b97cc506e103",
     "showTitle": false,
     "tableResultSettingsMap": {},
     "title": ""
    },
    "id": "efa9vdLSKfPD",
    "outputId": "4837b3d4-249c-4803-8b64-93b3ca51fc6d"
   },
   "outputs": [
    {
     "output_type": "stream",
     "name": "stdout",
     "output_type": "stream",
     "text": [
      "Out[19]: 'ready are We'"
     ]
    }
   ],
   "source": [
    "# Revisión\n",
    "master_yoda('We are ready')"
   ]
  },
  {
   "cell_type": "markdown",
   "metadata": {
    "application/vnd.databricks.v1+cell": {
     "cellMetadata": {},
     "inputWidgets": {},
     "nuid": "eb95022f-71ff-4454-9258-742bb4f72f95",
     "showTitle": false,
     "tableResultSettingsMap": {},
     "title": ""
    },
    "id": "9jquqRm7KfPE"
   },
   "source": [
    "# Nivel 2"
   ]
  },
  {
   "cell_type": "markdown",
   "metadata": {
    "application/vnd.databricks.v1+cell": {
     "cellMetadata": {},
     "inputWidgets": {},
     "nuid": "b35020be-9f4a-4560-8dee-f1554d5c1194",
     "showTitle": false,
     "tableResultSettingsMap": {},
     "title": ""
    },
    "id": "S5V3SVDGKfPE"
   },
   "source": [
    "#### PROBLEMA 33: \n",
    "\n",
    "Dada una lista de enteros, retornar True si el arreglo tinene un  3  seguido por un  3 .\n",
    "\n",
    "    has_33([1, 3, 3]) → True\n",
    "    has_33([1, 3, 1, 3]) → False\n",
    "    has_33([3, 1, 3]) → False"
   ]
  },
  {
   "cell_type": "code",
   "execution_count": 0,
   "metadata": {
    "application/vnd.databricks.v1+cell": {
     "cellMetadata": {
      "byteLimit": 2048000,
      "rowLimit": 10000
     },
     "inputWidgets": {},
     "nuid": "9ff9f912-9a50-45fa-bf0d-c9b1930ca414",
     "showTitle": false,
     "tableResultSettingsMap": {},
     "title": ""
    },
    "id": "9eU2-UZvKfPE"
   },
   "outputs": [
    {
     "output_type": "stream",
     "name": "stdout",
     "output_type": "stream",
     "text": [
      "True\nFalse\nFalse\n"
     ]
    }
   ],
   "source": [
    "def has_33(nums):\n",
    "    # Recorrer la lista y verificar si hay un 3 seguido por otro 3\n",
    "    for i in range(len(nums) - 1):  # Iterar hasta el penúltimo índice\n",
    "        if nums[i] == 3 and nums[i + 1] == 3:\n",
    "            return True\n",
    "    return False\n",
    "\n",
    "# Ejemplos de uso\n",
    "print(has_33([1, 3, 3]))  # Salida: True\n",
    "print(has_33([1, 3, 1, 3]))  # Salida: False\n",
    "print(has_33([3, 1, 3]))  # Salida: False\n"
   ]
  },
  {
   "cell_type": "code",
   "execution_count": 0,
   "metadata": {
    "application/vnd.databricks.v1+cell": {
     "cellMetadata": {
      "byteLimit": 2048000,
      "rowLimit": 10000
     },
     "inputWidgets": {},
     "nuid": "5f541bc8-d65a-4d3e-8323-26ed0919bdb2",
     "showTitle": false,
     "tableResultSettingsMap": {},
     "title": ""
    },
    "id": "Yca9X7MAKfPE",
    "outputId": "42c708a5-04ed-43e3-e8ec-295f48027f0c"
   },
   "outputs": [
    {
     "output_type": "stream",
     "name": "stdout",
     "output_type": "stream",
     "text": [
      "Out[21]: True"
     ]
    }
   ],
   "source": [
    "# Revisión\n",
    "has_33([1, 3, 3])"
   ]
  },
  {
   "cell_type": "code",
   "execution_count": 0,
   "metadata": {
    "application/vnd.databricks.v1+cell": {
     "cellMetadata": {
      "byteLimit": 2048000,
      "rowLimit": 10000
     },
     "inputWidgets": {},
     "nuid": "69cd52a2-c020-4794-a165-bc5f5087de81",
     "showTitle": false,
     "tableResultSettingsMap": {},
     "title": ""
    },
    "id": "XSw1ml9dKfPE",
    "outputId": "57e4fb93-4218-493c-992b-db6ebba0c5c1"
   },
   "outputs": [
    {
     "output_type": "stream",
     "name": "stdout",
     "output_type": "stream",
     "text": [
      "Out[22]: False"
     ]
    }
   ],
   "source": [
    "# Revisión\n",
    "has_33([1, 3, 1, 3])"
   ]
  },
  {
   "cell_type": "code",
   "execution_count": 0,
   "metadata": {
    "application/vnd.databricks.v1+cell": {
     "cellMetadata": {
      "byteLimit": 2048000,
      "rowLimit": 10000
     },
     "inputWidgets": {},
     "nuid": "1b89e981-46ee-40ea-88a8-72a9963e8944",
     "showTitle": false,
     "tableResultSettingsMap": {},
     "title": ""
    },
    "id": "ZKcJgxc5KfPF",
    "outputId": "34957a99-b52c-44cd-bc7c-b0e5158ccf23"
   },
   "outputs": [
    {
     "output_type": "stream",
     "name": "stdout",
     "output_type": "stream",
     "text": [
      "Out[23]: False"
     ]
    }
   ],
   "source": [
    "# Revisión\n",
    "has_33([3, 1, 3])"
   ]
  },
  {
   "cell_type": "markdown",
   "metadata": {
    "application/vnd.databricks.v1+cell": {
     "cellMetadata": {},
     "inputWidgets": {},
     "nuid": "7eb16fbe-439b-48c6-9a50-195a67fc7510",
     "showTitle": false,
     "tableResultSettingsMap": {},
     "title": ""
    },
    "id": "n-Vj63BpKfPF"
   },
   "source": [
    "#### REPLICADOR: Dada una cadena, devuelve una cadena donde por cada carácter en el original hay tres caracteres REPETIDOS\n",
    "    paper_doll('Hello') --> 'HHHeeellllllooo'\n",
    "    paper_doll('Mississippi') --> 'MMMiiissssssiiippppppiii'"
   ]
  },
  {
   "cell_type": "code",
   "execution_count": 0,
   "metadata": {
    "application/vnd.databricks.v1+cell": {
     "cellMetadata": {
      "byteLimit": 2048000,
      "rowLimit": 10000
     },
     "inputWidgets": {},
     "nuid": "a029282e-e184-4649-8c14-cd34f9e5e7cf",
     "showTitle": false,
     "tableResultSettingsMap": {},
     "title": ""
    },
    "id": "F6ivbyiXKfPF"
   },
   "outputs": [
    {
     "output_type": "stream",
     "name": "stdout",
     "output_type": "stream",
     "text": [
      "HHHeeellllllooo\nMMMiiissssssiiissssssiiippppppiii\n"
     ]
    }
   ],
   "source": [
    "def paper_doll(text):\n",
    "    # Generar una nueva cadena donde cada carácter se repite tres veces\n",
    "    result = ''.join([char * 3 for char in text])\n",
    "    return result\n",
    "\n",
    "# Ejemplos de uso\n",
    "print(paper_doll('Hello'))       # Salida: HHHeeellllllooo\n",
    "print(paper_doll('Mississippi')) # Salida: MMMiiissssssiiissssssiiippppppiii\n"
   ]
  },
  {
   "cell_type": "code",
   "execution_count": 0,
   "metadata": {
    "application/vnd.databricks.v1+cell": {
     "cellMetadata": {
      "byteLimit": 2048000,
      "rowLimit": 10000
     },
     "inputWidgets": {},
     "nuid": "ad41ec66-9c2d-4627-9f24-6e5bcbf703dc",
     "showTitle": false,
     "tableResultSettingsMap": {},
     "title": ""
    },
    "id": "h330yUbKKfPF",
    "outputId": "169efcdf-a2d5-4eaa-d0f4-295f84a4f5e9"
   },
   "outputs": [
    {
     "output_type": "stream",
     "name": "stdout",
     "output_type": "stream",
     "text": [
      "Out[25]: 'HHHeeellllllooo'"
     ]
    }
   ],
   "source": [
    "# Check\n",
    "paper_doll('Hello')"
   ]
  },
  {
   "cell_type": "code",
   "execution_count": 0,
   "metadata": {
    "application/vnd.databricks.v1+cell": {
     "cellMetadata": {
      "byteLimit": 2048000,
      "rowLimit": 10000
     },
     "inputWidgets": {},
     "nuid": "6c3c1619-8062-4c44-b62b-0fdc15aed893",
     "showTitle": false,
     "tableResultSettingsMap": {},
     "title": ""
    },
    "id": "sZTw8FlZKfPF",
    "outputId": "e7dc07c0-e048-4b25-ffcb-a5e4aeeebb42"
   },
   "outputs": [
    {
     "output_type": "stream",
     "name": "stdout",
     "output_type": "stream",
     "text": [
      "Out[26]: 'MMMiiissssssiiissssssiiippppppiii'"
     ]
    }
   ],
   "source": [
    "# Check\n",
    "paper_doll('Mississippi')"
   ]
  },
  {
   "cell_type": "markdown",
   "metadata": {
    "application/vnd.databricks.v1+cell": {
     "cellMetadata": {},
     "inputWidgets": {},
     "nuid": "c10ba177-27bc-4158-8f87-623e009a7c54",
     "showTitle": false,
     "tableResultSettingsMap": {},
     "title": ""
    },
    "id": "OJfMlQRcKfPF"
   },
   "source": [
    "#### BLACKJACK: Dados tres enteros entre 1 y 11, si su suma es menor o igual a 21, devuelve su suma. Si su suma excede 21 *y* hay un once, reduce la suma total en 10. Finalmente, si la suma (incluso después del ajuste) excede 21, devuelve 'BUST'\n",
    "    blackjack(5,6,7) --> 18\n",
    "    blackjack(9,9,9) --> 'BUST'\n",
    "    blackjack(9,9,11) --> 19"
   ]
  },
  {
   "cell_type": "code",
   "execution_count": 0,
   "metadata": {
    "application/vnd.databricks.v1+cell": {
     "cellMetadata": {
      "byteLimit": 2048000,
      "rowLimit": 10000
     },
     "inputWidgets": {},
     "nuid": "4c5853fb-1531-4946-93a8-d38b9df5efff",
     "showTitle": false,
     "tableResultSettingsMap": {},
     "title": ""
    },
    "id": "REJRcYJmKfPF"
   },
   "outputs": [
    {
     "output_type": "stream",
     "name": "stdout",
     "output_type": "stream",
     "text": [
      "18\nBUST\n19\n"
     ]
    }
   ],
   "source": [
    "def blackjack(a, b, c):\n",
    "    # Calcular la suma de los tres números\n",
    "    total = a + b + c\n",
    "    \n",
    "    # Si la suma es menor o igual a 21, devolver la suma\n",
    "    if total <= 21:\n",
    "        return total\n",
    "    \n",
    "    # Si la suma excede 21 y hay un 11, reducir la suma total en 10\n",
    "    if 11 in [a, b, c] and total <= 31:\n",
    "        return total - 10\n",
    "    \n",
    "    # Si la suma todavía excede 21, devolver 'BUST'\n",
    "    return 'BUST'\n",
    "\n",
    "# Ejemplos de uso\n",
    "print(blackjack(5, 6, 7))  # Salida: 18\n",
    "print(blackjack(9, 9, 9))  # Salida: 'BUST'\n",
    "print(blackjack(9, 9, 11)) # Salida: 19\n"
   ]
  },
  {
   "cell_type": "code",
   "execution_count": 0,
   "metadata": {
    "application/vnd.databricks.v1+cell": {
     "cellMetadata": {
      "byteLimit": 2048000,
      "rowLimit": 10000
     },
     "inputWidgets": {},
     "nuid": "40569465-4847-4e44-b095-016eb07280f1",
     "showTitle": false,
     "tableResultSettingsMap": {},
     "title": ""
    },
    "id": "D_sHnddYKfPF",
    "outputId": "fc7e06b6-dedc-44db-967b-d2bcae8566da"
   },
   "outputs": [
    {
     "output_type": "stream",
     "name": "stdout",
     "output_type": "stream",
     "text": [
      "Out[28]: 18"
     ]
    }
   ],
   "source": [
    "# Revisión\n",
    "blackjack(5,6,7)"
   ]
  },
  {
   "cell_type": "code",
   "execution_count": 0,
   "metadata": {
    "application/vnd.databricks.v1+cell": {
     "cellMetadata": {
      "byteLimit": 2048000,
      "rowLimit": 10000
     },
     "inputWidgets": {},
     "nuid": "4fe3b1b9-b38b-4062-9495-d6298d1d25cf",
     "showTitle": false,
     "tableResultSettingsMap": {},
     "title": ""
    },
    "id": "y0713b36KfPF",
    "outputId": "278287b5-0843-4056-da0b-ed5d8b382b7d"
   },
   "outputs": [
    {
     "output_type": "stream",
     "name": "stdout",
     "output_type": "stream",
     "text": [
      "Out[29]: 'BUST'"
     ]
    }
   ],
   "source": [
    "# Revisión\n",
    "blackjack(9,9,9)"
   ]
  },
  {
   "cell_type": "code",
   "execution_count": 0,
   "metadata": {
    "application/vnd.databricks.v1+cell": {
     "cellMetadata": {
      "byteLimit": 2048000,
      "rowLimit": 10000
     },
     "inputWidgets": {},
     "nuid": "1603fc21-7d5c-4e5e-8cb6-bf9b42d70882",
     "showTitle": false,
     "tableResultSettingsMap": {},
     "title": ""
    },
    "id": "6eijyrH-KfPG",
    "outputId": "68421178-7dc7-439f-e433-ce567b999dd6"
   },
   "outputs": [
    {
     "output_type": "stream",
     "name": "stdout",
     "output_type": "stream",
     "text": [
      "Out[30]: 19"
     ]
    }
   ],
   "source": [
    "# Revisión\n",
    "blackjack(9,9,11)"
   ]
  },
  {
   "cell_type": "markdown",
   "metadata": {
    "application/vnd.databricks.v1+cell": {
     "cellMetadata": {},
     "inputWidgets": {},
     "nuid": "12fb9f9e-0f34-4167-bde3-3249222cb160",
     "showTitle": false,
     "tableResultSettingsMap": {},
     "title": ""
    },
    "id": "6S22_l6xKfPI"
   },
   "source": [
    "## Suerte!"
   ]
  }
 ],
 "metadata": {
  "application/vnd.databricks.v1+notebook": {
   "computePreferences": null,
   "dashboards": [],
   "environmentMetadata": null,
   "language": "python",
   "notebookMetadata": {
    "pythonIndentUnit": 4
   },
   "notebookName": "Practico_Bono_1",
   "widgets": {}
  },
  "colab": {
   "name": "Practico_Bono_1(E).ipynb",
   "provenance": []
  },
  "kernelspec": {
   "display_name": "Python 3 (ipykernel)",
   "language": "python",
   "name": "python3"
  },
  "language_info": {
   "codemirror_mode": {
    "name": "ipython",
    "version": 3
   },
   "file_extension": ".py",
   "mimetype": "text/x-python",
   "name": "python",
   "nbconvert_exporter": "python",
   "pygments_lexer": "ipython3",
   "version": "3.10.4"
  }
 },
 "nbformat": 4,
 "nbformat_minor": 0
}
